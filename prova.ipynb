{
    "nbformat": 4,
    "nbformat_minor": 0,
    "metadata": {
        "colab": {
            "name": "prova.ipynb",
            "provenance": [],
            "collapsed_sections": []
        },
        "kernelspec": {
            "name": "python3",
            "display_name": "Python 3",
            "language": "python"
        }
    },
    "cells": [
        {
            "cell_type": "markdown",
            "metadata": {
                "id": "01a4a427-2e88-43ec-83f7-49a819e1688b",
                "focus": false
            },
            "source": [
                "Ciao Fra! :)"
            ]
        },
        {
            "cell_type": "code",
            "metadata": {
                "id": "74d78a1a-7652-488f-b069-eb106ab1338a",
                "colab": {
                    "base_uri": "https://localhost:8080/"
                },
                "outputId": "8e9a19a6-2db5-4536-ba5c-0818c20f8783",
                "focus": false
            },
            "source": [
                "pippo=0\n",
                "print(\"pippo={}\".format(pippo))"
            ],
            "execution_count": null,
            "outputs": [
                {
                    "output_type": "stream",
                    "text": [
                        "pippo=0\n"
                    ],
                    "name": "stdout"
                }
            ]
        },
        {
            "cell_type": "code",
            "execution_count": 1,
            "metadata": {
                "collapsed": false,
                "focus": true
            },
            "outputs": [
                {
                    "output_type": "stream",
                    "name": "stdout",
                    "text": [
                        "Hello!\n"
                    ]
                }
            ],
            "source": [
                "print(\"Hello!\")"
            ]
        },
        {
            "cell_type": "code",
            "execution_count": null,
            "metadata": {},
            "outputs": [],
            "source": []
        }
    ]
}