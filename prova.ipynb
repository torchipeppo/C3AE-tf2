{
  "nbformat": 4,
  "nbformat_minor": 0,
  "metadata": {
    "colab": {
      "name": "prova.ipynb",
      "provenance": [],
      "collapsed_sections": []
    },
    "kernelspec": {
      "name": "python3",
      "display_name": "Python 3"
    }
  },
  "cells": [
    {
      "cell_type": "markdown",
      "metadata": {
        "id": "10kFKodtmTXq"
      },
      "source": [
        "Ciao Fra! :)"
      ]
    },
    {
      "cell_type": "code",
      "metadata": {
        "id": "Ld3nvCJXlQ-d",
        "colab": {
          "base_uri": "https://localhost:8080/"
        },
        "outputId": "8e9a19a6-2db5-4536-ba5c-0818c20f8783"
      },
      "source": [
        "pippo=0\n",
        "print(\"pippo={}\".format(pippo))"
      ],
      "execution_count": null,
      "outputs": [
        {
          "output_type": "stream",
          "text": [
            "pippo=0\n"
          ],
          "name": "stdout"
        }
      ]
    }
  ]
}